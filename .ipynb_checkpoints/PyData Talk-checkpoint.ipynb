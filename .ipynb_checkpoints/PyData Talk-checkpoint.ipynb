{
 "cells": [
  {
   "cell_type": "markdown",
   "metadata": {
    "slideshow": {
     "slide_type": "slide"
    }
   },
   "source": [
    "# Data analysis using the Python ecosystem\n",
    "\n",
    "## Before pandas\n",
    "\n",
    "### Scientific Python\n",
    "Python has a scientific computing ecosystem that has existed since the mid-90s\n",
    "\n",
    "+ Numpy (as Numeric since 1995, current incarnation since 2006)\n",
    "+ Scipy (2001)\n",
    "+ Matplotlib (early 2000s)\n",
    "+ Sympy (2007)\n",
    "\n",
    "This ecosystem is meant to emulate __Matlab__, and is geared to numerical data\n",
    "\n",
    "### Natural Language Processing\n",
    "Python has a mature natural language processing library, __NLTK__ (Natural Language ToolKit), for symbolic and statistical natural language processing.\n",
    "\n",
    "### What was lacking\n",
    "\n",
    "This ecosystem provided tools for data munging and analysis, but didn't necessarily make it easy. \n",
    "\n",
    "+ No container for heterogeneous data types (a la <code>data.frame</code> in R) that can be easily manipulated\n",
    "\n",
    "    - Lists and dicts are around, but needed to be simpler\n",
    "    - Metadata (labeling rows and columns, referencing by labels)\n",
    "    - Manipulation and extraction using either array or label or component syntax\n",
    "    \n",
    "+ Easy handling of missing data\n",
    "\n",
    "    - Masked arrays in numpy are available\n",
    "    - Simple imputation\n",
    "    - Easy way to get complete or partially complete cases\n",
    "\n",
    "+ Easy data munging capabilities\n",
    "\n",
    "    - reshaping data from wide to long and v.v\n",
    "    - subsetting\n",
    "    - split-apply-combine\n",
    "    - aggregation\n",
    "    \n",
    "+ Exploratory data analysis, summaries\n",
    "+ Statistical modeling and machine learning\n",
    "\n",
    "    - Was rudimentary c. 2009\n",
    "\n"
   ]
  },
  {
   "cell_type": "markdown",
   "metadata": {
    "slideshow": {
     "slide_type": "slide"
    }
   },
   "source": [
    "\n",
    "## pandas\n",
    "\n",
    "__pandas__ (Python data analysis toolbox) was first released in 2008. The current version is 0.12, released in July.\n",
    "\n",
    "+ Puts R in the bullseye\n",
    "+ Wants to emulate R's capabilities in a more efficient computing environment\n",
    "+ Provide a rich data analysis environment that can be easily integrated into production and web infrastructures\n"
   ]
  },
  {
   "cell_type": "markdown",
   "metadata": {
    "slideshow": {
     "slide_type": "subslide"
    }
   },
   "source": [
    "<quote style=\"font-family:Times New Roman; font-style:italic; font-size:120%; color: red\">R makes users forget how fast a computer really is</quote> <p style=\"text-align:right\">John Myles White, SPDC, October 2013</p>"
   ]
  },
  {
   "cell_type": "code",
   "execution_count": 1,
   "metadata": {
    "slideshow": {
     "slide_type": "subslide"
    }
   },
   "outputs": [],
   "source": [
    "import warnings\n",
    "warnings.filterwarnings(\"ignore\", category=DeprecationWarning)\n",
    "warnings.filterwarnings(\"ignore\", category=UserWarning)"
   ]
  },
  {
   "cell_type": "code",
   "execution_count": 2,
   "metadata": {
    "slideshow": {
     "slide_type": "slide"
    }
   },
   "outputs": [
    {
     "data": {
      "text/plain": [
       "'0.12.0'"
      ]
     },
     "execution_count": 2,
     "metadata": {},
     "output_type": "execute_result"
    }
   ],
   "source": [
    "import numpy as np\n",
    "import pandas as pd\n",
    "pd.__version__"
   ]
  },
  {
   "cell_type": "markdown",
   "metadata": {
    "slideshow": {
     "slide_type": "slide"
    }
   },
   "source": [
    "### <code>pandas</code> has two main data structures: <code>Series</code> and <code>DataFrame</code>"
   ]
  },
  {
   "cell_type": "markdown",
   "metadata": {
    "slideshow": {
     "slide_type": "subslide"
    }
   },
   "source": [
    "## Series"
   ]
  },
  {
   "cell_type": "code",
   "execution_count": 3,
   "metadata": {
    "slideshow": {
     "slide_type": "subslide"
    }
   },
   "outputs": [
    {
     "data": {
      "text/plain": [
       "0    5\n",
       "1    3\n",
       "2    4\n",
       "3    8\n",
       "4    2\n",
       "5    9\n",
       "dtype: int64"
      ]
     },
     "execution_count": 3,
     "metadata": {},
     "output_type": "execute_result"
    }
   ],
   "source": [
    "values = [5,3,4,8,2,9]\n",
    "vals = pd.Series(values)\n",
    "vals"
   ]
  },
  {
   "cell_type": "markdown",
   "metadata": {
    "slideshow": {
     "slide_type": "subslide"
    }
   },
   "source": [
    "Each value is now associated with an _index_. The index itself is an object of class <code>Index</code> and can be manipulated directly."
   ]
  },
  {
   "cell_type": "code",
   "execution_count": 4,
   "metadata": {
    "slideshow": {
     "slide_type": "subslide"
    }
   },
   "outputs": [
    {
     "data": {
      "text/plain": [
       "Int64Index([0, 1, 2, 3, 4, 5], dtype=int64)"
      ]
     },
     "execution_count": 4,
     "metadata": {},
     "output_type": "execute_result"
    }
   ],
   "source": [
    "vals.index"
   ]
  },
  {
   "cell_type": "code",
   "execution_count": 5,
   "metadata": {
    "slideshow": {
     "slide_type": "subslide"
    }
   },
   "outputs": [
    {
     "data": {
      "text/plain": [
       "array([5, 3, 4, 8, 2, 9])"
      ]
     },
     "execution_count": 5,
     "metadata": {},
     "output_type": "execute_result"
    }
   ],
   "source": [
    "vals.values"
   ]
  },
  {
   "cell_type": "code",
   "execution_count": 6,
   "metadata": {},
   "outputs": [
    {
     "data": {
      "text/plain": [
       "a    5\n",
       "b    3\n",
       "c    4\n",
       "d    8\n",
       "e    2\n",
       "f    9\n",
       "dtype: int64"
      ]
     },
     "execution_count": 6,
     "metadata": {},
     "output_type": "execute_result"
    }
   ],
   "source": [
    "vals2 = pd.Series(values, index=['a','b','c','d','e','f'])\n",
    "vals2"
   ]
  },
  {
   "cell_type": "code",
   "execution_count": 7,
   "metadata": {},
   "outputs": [
    {
     "data": {
      "text/plain": [
       "b    3\n",
       "d    8\n",
       "dtype: int64"
      ]
     },
     "execution_count": 7,
     "metadata": {},
     "output_type": "execute_result"
    }
   ],
   "source": [
    "vals2[['b','d']]"
   ]
  },
  {
   "cell_type": "code",
   "execution_count": 8,
   "metadata": {},
   "outputs": [
    {
     "data": {
      "text/plain": [
       "e     2\n",
       "f     9\n",
       "g   NaN\n",
       "dtype: float64"
      ]
     },
     "execution_count": 8,
     "metadata": {},
     "output_type": "execute_result"
    }
   ],
   "source": [
    "vals2[['e','f','g']]"
   ]
  },
  {
   "cell_type": "code",
   "execution_count": 9,
   "metadata": {},
   "outputs": [
    {
     "data": {
      "text/plain": [
       "a     5\n",
       "b     3\n",
       "c     4\n",
       "f     9\n",
       "g   NaN\n",
       "h   NaN\n",
       "dtype: float64"
      ]
     },
     "execution_count": 9,
     "metadata": {},
     "output_type": "execute_result"
    }
   ],
   "source": [
    "vals3 = vals2[['a','b','c','f','g','h']]\n",
    "vals3"
   ]
  },
  {
   "cell_type": "code",
   "execution_count": 10,
   "metadata": {},
   "outputs": [
    {
     "data": {
      "text/plain": [
       "a    False\n",
       "b    False\n",
       "c    False\n",
       "f    False\n",
       "g     True\n",
       "h     True\n",
       "dtype: bool"
      ]
     },
     "execution_count": 10,
     "metadata": {},
     "output_type": "execute_result"
    }
   ],
   "source": [
    "vals3.isnull()"
   ]
  },
  {
   "cell_type": "code",
   "execution_count": 11,
   "metadata": {},
   "outputs": [
    {
     "data": {
      "text/plain": [
       "a    5\n",
       "b    3\n",
       "c    4\n",
       "f    9\n",
       "dtype: float64"
      ]
     },
     "execution_count": 11,
     "metadata": {},
     "output_type": "execute_result"
    }
   ],
   "source": [
    "vals3.dropna()"
   ]
  },
  {
   "cell_type": "code",
   "execution_count": 12,
   "metadata": {},
   "outputs": [
    {
     "data": {
      "text/plain": [
       "a    5\n",
       "b    3\n",
       "c    4\n",
       "f    9\n",
       "g    0\n",
       "h    0\n",
       "dtype: float64"
      ]
     },
     "execution_count": 12,
     "metadata": {},
     "output_type": "execute_result"
    }
   ],
   "source": [
    "vals3.fillna(0)"
   ]
  },
  {
   "cell_type": "code",
   "execution_count": 13,
   "metadata": {},
   "outputs": [
    {
     "data": {
      "text/plain": [
       "a    5.00\n",
       "b    3.00\n",
       "c    4.00\n",
       "f    9.00\n",
       "g    5.25\n",
       "h    5.25\n",
       "dtype: float64"
      ]
     },
     "execution_count": 13,
     "metadata": {},
     "output_type": "execute_result"
    }
   ],
   "source": [
    "vals3.fillna(vals3.mean())"
   ]
  },
  {
   "cell_type": "code",
   "execution_count": 14,
   "metadata": {},
   "outputs": [
    {
     "data": {
      "text/plain": [
       "a    5\n",
       "b    3\n",
       "c    4\n",
       "f    9\n",
       "g    9\n",
       "h    9\n",
       "dtype: float64"
      ]
     },
     "execution_count": 14,
     "metadata": {},
     "output_type": "execute_result"
    }
   ],
   "source": [
    "vals3.fillna(method='ffill')"
   ]
  },
  {
   "cell_type": "code",
   "execution_count": 15,
   "metadata": {},
   "outputs": [
    {
     "data": {
      "text/plain": [
       "count    4.000000\n",
       "mean     5.250000\n",
       "std      2.629956\n",
       "min      3.000000\n",
       "25%      3.750000\n",
       "50%      4.500000\n",
       "75%      6.000000\n",
       "max      9.000000\n",
       "dtype: float64"
      ]
     },
     "execution_count": 15,
     "metadata": {},
     "output_type": "execute_result"
    }
   ],
   "source": [
    "vals3.describe()"
   ]
  },
  {
   "cell_type": "markdown",
   "metadata": {},
   "source": [
    "## DataFrame"
   ]
  },
  {
   "cell_type": "code",
   "execution_count": 16,
   "metadata": {},
   "outputs": [],
   "source": [
    "vals.index=pd.Index(['a','b','c','d','e','f'])\n",
    "vals3=vals3[['a','c','d','e','z']]\n"
   ]
  },
  {
   "cell_type": "code",
   "execution_count": 17,
   "metadata": {},
   "outputs": [
    {
     "data": {
      "text/html": [
       "<div style=\"max-height:1000px;max-width:1500px;overflow:auto;\">\n",
       "<table border=\"1\" class=\"dataframe\">\n",
       "  <thead>\n",
       "    <tr style=\"text-align: right;\">\n",
       "      <th></th>\n",
       "      <th>new</th>\n",
       "      <th>orig</th>\n",
       "    </tr>\n",
       "  </thead>\n",
       "  <tbody>\n",
       "    <tr>\n",
       "      <th>a</th>\n",
       "      <td>  5</td>\n",
       "      <td>  5</td>\n",
       "    </tr>\n",
       "    <tr>\n",
       "      <th>b</th>\n",
       "      <td>NaN</td>\n",
       "      <td>  3</td>\n",
       "    </tr>\n",
       "    <tr>\n",
       "      <th>c</th>\n",
       "      <td>  4</td>\n",
       "      <td>  4</td>\n",
       "    </tr>\n",
       "    <tr>\n",
       "      <th>d</th>\n",
       "      <td>NaN</td>\n",
       "      <td>  8</td>\n",
       "    </tr>\n",
       "    <tr>\n",
       "      <th>e</th>\n",
       "      <td>NaN</td>\n",
       "      <td>  2</td>\n",
       "    </tr>\n",
       "    <tr>\n",
       "      <th>f</th>\n",
       "      <td>NaN</td>\n",
       "      <td>  9</td>\n",
       "    </tr>\n",
       "    <tr>\n",
       "      <th>z</th>\n",
       "      <td>NaN</td>\n",
       "      <td>NaN</td>\n",
       "    </tr>\n",
       "  </tbody>\n",
       "</table>\n",
       "</div>"
      ],
      "text/plain": [
       "   new  orig\n",
       "a    5     5\n",
       "b  NaN     3\n",
       "c    4     4\n",
       "d  NaN     8\n",
       "e  NaN     2\n",
       "f  NaN     9\n",
       "z  NaN   NaN"
      ]
     },
     "execution_count": 17,
     "metadata": {},
     "output_type": "execute_result"
    }
   ],
   "source": [
    "dat = pd.DataFrame({'orig':vals,'new':vals3})\n",
    "dat"
   ]
  },
  {
   "cell_type": "code",
   "execution_count": 18,
   "metadata": {},
   "outputs": [
    {
     "data": {
      "text/html": [
       "<div style=\"max-height:1000px;max-width:1500px;overflow:auto;\">\n",
       "<table border=\"1\" class=\"dataframe\">\n",
       "  <thead>\n",
       "    <tr style=\"text-align: right;\">\n",
       "      <th></th>\n",
       "      <th>new</th>\n",
       "      <th>orig</th>\n",
       "    </tr>\n",
       "  </thead>\n",
       "  <tbody>\n",
       "    <tr>\n",
       "      <th>a</th>\n",
       "      <td> 5</td>\n",
       "      <td> 5</td>\n",
       "    </tr>\n",
       "    <tr>\n",
       "      <th>b</th>\n",
       "      <td> 1</td>\n",
       "      <td> 3</td>\n",
       "    </tr>\n",
       "    <tr>\n",
       "      <th>c</th>\n",
       "      <td> 4</td>\n",
       "      <td> 4</td>\n",
       "    </tr>\n",
       "    <tr>\n",
       "      <th>d</th>\n",
       "      <td> 1</td>\n",
       "      <td> 8</td>\n",
       "    </tr>\n",
       "    <tr>\n",
       "      <th>e</th>\n",
       "      <td> 1</td>\n",
       "      <td> 2</td>\n",
       "    </tr>\n",
       "    <tr>\n",
       "      <th>f</th>\n",
       "      <td> 1</td>\n",
       "      <td> 9</td>\n",
       "    </tr>\n",
       "    <tr>\n",
       "      <th>z</th>\n",
       "      <td> 1</td>\n",
       "      <td> 1</td>\n",
       "    </tr>\n",
       "  </tbody>\n",
       "</table>\n",
       "</div>"
      ],
      "text/plain": [
       "   new  orig\n",
       "a    5     5\n",
       "b    1     3\n",
       "c    4     4\n",
       "d    1     8\n",
       "e    1     2\n",
       "f    1     9\n",
       "z    1     1"
      ]
     },
     "execution_count": 18,
     "metadata": {},
     "output_type": "execute_result"
    }
   ],
   "source": [
    "dat.fillna(1)"
   ]
  },
  {
   "cell_type": "code",
   "execution_count": 19,
   "metadata": {},
   "outputs": [
    {
     "data": {
      "text/html": [
       "<div style=\"max-height:1000px;max-width:1500px;overflow:auto;\">\n",
       "<table border=\"1\" class=\"dataframe\">\n",
       "  <thead>\n",
       "    <tr style=\"text-align: right;\">\n",
       "      <th></th>\n",
       "      <th>mpg</th>\n",
       "      <th>cyl</th>\n",
       "      <th>disp</th>\n",
       "      <th>hp</th>\n",
       "      <th>drat</th>\n",
       "      <th>wt</th>\n",
       "      <th>qsec</th>\n",
       "      <th>vs</th>\n",
       "      <th>am</th>\n",
       "      <th>gear</th>\n",
       "      <th>carb</th>\n",
       "    </tr>\n",
       "  </thead>\n",
       "  <tbody>\n",
       "    <tr>\n",
       "      <th>0</th>\n",
       "      <td> 21.0</td>\n",
       "      <td> 6</td>\n",
       "      <td> 160.0</td>\n",
       "      <td> 110</td>\n",
       "      <td> 3.90</td>\n",
       "      <td> 2.620</td>\n",
       "      <td> 16.46</td>\n",
       "      <td> 0</td>\n",
       "      <td> 1</td>\n",
       "      <td> 4</td>\n",
       "      <td> 4</td>\n",
       "    </tr>\n",
       "    <tr>\n",
       "      <th>1</th>\n",
       "      <td> 21.0</td>\n",
       "      <td> 6</td>\n",
       "      <td> 160.0</td>\n",
       "      <td> 110</td>\n",
       "      <td> 3.90</td>\n",
       "      <td> 2.875</td>\n",
       "      <td> 17.02</td>\n",
       "      <td> 0</td>\n",
       "      <td> 1</td>\n",
       "      <td> 4</td>\n",
       "      <td> 4</td>\n",
       "    </tr>\n",
       "    <tr>\n",
       "      <th>2</th>\n",
       "      <td> 22.8</td>\n",
       "      <td> 4</td>\n",
       "      <td> 108.0</td>\n",
       "      <td>  93</td>\n",
       "      <td> 3.85</td>\n",
       "      <td> 2.320</td>\n",
       "      <td> 18.61</td>\n",
       "      <td> 1</td>\n",
       "      <td> 1</td>\n",
       "      <td> 4</td>\n",
       "      <td> 1</td>\n",
       "    </tr>\n",
       "    <tr>\n",
       "      <th>3</th>\n",
       "      <td> 21.4</td>\n",
       "      <td> 6</td>\n",
       "      <td> 258.0</td>\n",
       "      <td> 110</td>\n",
       "      <td> 3.08</td>\n",
       "      <td> 3.215</td>\n",
       "      <td> 19.44</td>\n",
       "      <td> 1</td>\n",
       "      <td> 0</td>\n",
       "      <td> 3</td>\n",
       "      <td> 1</td>\n",
       "    </tr>\n",
       "    <tr>\n",
       "      <th>4</th>\n",
       "      <td> 18.7</td>\n",
       "      <td> 8</td>\n",
       "      <td> 360.0</td>\n",
       "      <td> 175</td>\n",
       "      <td> 3.15</td>\n",
       "      <td> 3.440</td>\n",
       "      <td> 17.02</td>\n",
       "      <td> 0</td>\n",
       "      <td> 0</td>\n",
       "      <td> 3</td>\n",
       "      <td> 2</td>\n",
       "    </tr>\n",
       "    <tr>\n",
       "      <th>5</th>\n",
       "      <td> 18.1</td>\n",
       "      <td> 6</td>\n",
       "      <td> 225.0</td>\n",
       "      <td> 105</td>\n",
       "      <td> 2.76</td>\n",
       "      <td> 3.460</td>\n",
       "      <td> 20.22</td>\n",
       "      <td> 1</td>\n",
       "      <td> 0</td>\n",
       "      <td> 3</td>\n",
       "      <td> 1</td>\n",
       "    </tr>\n",
       "    <tr>\n",
       "      <th>6</th>\n",
       "      <td> 14.3</td>\n",
       "      <td> 8</td>\n",
       "      <td> 360.0</td>\n",
       "      <td> 245</td>\n",
       "      <td> 3.21</td>\n",
       "      <td> 3.570</td>\n",
       "      <td> 15.84</td>\n",
       "      <td> 0</td>\n",
       "      <td> 0</td>\n",
       "      <td> 3</td>\n",
       "      <td> 4</td>\n",
       "    </tr>\n",
       "    <tr>\n",
       "      <th>7</th>\n",
       "      <td> 24.4</td>\n",
       "      <td> 4</td>\n",
       "      <td> 146.7</td>\n",
       "      <td>  62</td>\n",
       "      <td> 3.69</td>\n",
       "      <td> 3.190</td>\n",
       "      <td> 20.00</td>\n",
       "      <td> 1</td>\n",
       "      <td> 0</td>\n",
       "      <td> 4</td>\n",
       "      <td> 2</td>\n",
       "    </tr>\n",
       "    <tr>\n",
       "      <th>8</th>\n",
       "      <td> 22.8</td>\n",
       "      <td> 4</td>\n",
       "      <td> 140.8</td>\n",
       "      <td>  95</td>\n",
       "      <td> 3.92</td>\n",
       "      <td> 3.150</td>\n",
       "      <td> 22.90</td>\n",
       "      <td> 1</td>\n",
       "      <td> 0</td>\n",
       "      <td> 4</td>\n",
       "      <td> 2</td>\n",
       "    </tr>\n",
       "    <tr>\n",
       "      <th>9</th>\n",
       "      <td> 19.2</td>\n",
       "      <td> 6</td>\n",
       "      <td> 167.6</td>\n",
       "      <td> 123</td>\n",
       "      <td> 3.92</td>\n",
       "      <td> 3.440</td>\n",
       "      <td> 18.30</td>\n",
       "      <td> 1</td>\n",
       "      <td> 0</td>\n",
       "      <td> 4</td>\n",
       "      <td> 4</td>\n",
       "    </tr>\n",
       "  </tbody>\n",
       "</table>\n",
       "</div>"
      ],
      "text/plain": [
       "    mpg  cyl   disp   hp  drat     wt   qsec  vs  am  gear  carb\n",
       "0  21.0    6  160.0  110  3.90  2.620  16.46   0   1     4     4\n",
       "1  21.0    6  160.0  110  3.90  2.875  17.02   0   1     4     4\n",
       "2  22.8    4  108.0   93  3.85  2.320  18.61   1   1     4     1\n",
       "3  21.4    6  258.0  110  3.08  3.215  19.44   1   0     3     1\n",
       "4  18.7    8  360.0  175  3.15  3.440  17.02   0   0     3     2\n",
       "5  18.1    6  225.0  105  2.76  3.460  20.22   1   0     3     1\n",
       "6  14.3    8  360.0  245  3.21  3.570  15.84   0   0     3     4\n",
       "7  24.4    4  146.7   62  3.69  3.190  20.00   1   0     4     2\n",
       "8  22.8    4  140.8   95  3.92  3.150  22.90   1   0     4     2\n",
       "9  19.2    6  167.6  123  3.92  3.440  18.30   1   0     4     4"
      ]
     },
     "execution_count": 19,
     "metadata": {},
     "output_type": "execute_result"
    }
   ],
   "source": [
    "cars = pd.read_csv('mtcars.csv')\n",
    "cars[:10]"
   ]
  },
  {
   "cell_type": "code",
   "execution_count": 20,
   "metadata": {},
   "outputs": [
    {
     "data": {
      "text/plain": [
       "0     6\n",
       "1     6\n",
       "2     4\n",
       "3     6\n",
       "4     8\n",
       "5     6\n",
       "6     8\n",
       "7     4\n",
       "8     4\n",
       "9     6\n",
       "10    6\n",
       "11    8\n",
       "12    8\n",
       "13    8\n",
       "14    8\n",
       "15    8\n",
       "16    8\n",
       "17    4\n",
       "18    4\n",
       "19    4\n",
       "20    4\n",
       "21    8\n",
       "22    8\n",
       "23    8\n",
       "24    8\n",
       "25    4\n",
       "26    4\n",
       "27    4\n",
       "28    8\n",
       "29    6\n",
       "30    8\n",
       "31    4\n",
       "Name: cyl, dtype: int64"
      ]
     },
     "execution_count": 20,
     "metadata": {},
     "output_type": "execute_result"
    }
   ],
   "source": [
    "cars.cyl"
   ]
  },
  {
   "cell_type": "code",
   "execution_count": 21,
   "metadata": {},
   "outputs": [
    {
     "data": {
      "text/html": [
       "<div style=\"max-height:1000px;max-width:1500px;overflow:auto;\">\n",
       "<table border=\"1\" class=\"dataframe\">\n",
       "  <thead>\n",
       "    <tr style=\"text-align: right;\">\n",
       "      <th></th>\n",
       "      <th>mpg</th>\n",
       "      <th>cyl</th>\n",
       "      <th>disp</th>\n",
       "      <th>hp</th>\n",
       "      <th>drat</th>\n",
       "      <th>wt</th>\n",
       "      <th>qsec</th>\n",
       "      <th>vs</th>\n",
       "      <th>am</th>\n",
       "      <th>gear</th>\n",
       "      <th>carb</th>\n",
       "    </tr>\n",
       "  </thead>\n",
       "  <tbody>\n",
       "    <tr>\n",
       "      <th>5</th>\n",
       "      <td> 18.1</td>\n",
       "      <td> 6</td>\n",
       "      <td> 225.0</td>\n",
       "      <td> 105</td>\n",
       "      <td> 2.76</td>\n",
       "      <td> 3.46</td>\n",
       "      <td> 20.22</td>\n",
       "      <td> 1</td>\n",
       "      <td> 0</td>\n",
       "      <td> 3</td>\n",
       "      <td> 1</td>\n",
       "    </tr>\n",
       "    <tr>\n",
       "      <th>7</th>\n",
       "      <td> 24.4</td>\n",
       "      <td> 4</td>\n",
       "      <td> 146.7</td>\n",
       "      <td>  62</td>\n",
       "      <td> 3.69</td>\n",
       "      <td> 3.19</td>\n",
       "      <td> 20.00</td>\n",
       "      <td> 1</td>\n",
       "      <td> 0</td>\n",
       "      <td> 4</td>\n",
       "      <td> 2</td>\n",
       "    </tr>\n",
       "  </tbody>\n",
       "</table>\n",
       "</div>"
      ],
      "text/plain": [
       "    mpg  cyl   disp   hp  drat    wt   qsec  vs  am  gear  carb\n",
       "5  18.1    6  225.0  105  2.76  3.46  20.22   1   0     3     1\n",
       "7  24.4    4  146.7   62  3.69  3.19  20.00   1   0     4     2"
      ]
     },
     "execution_count": 21,
     "metadata": {},
     "output_type": "execute_result"
    }
   ],
   "source": [
    "cars.ix[[5,7]]"
   ]
  },
  {
   "cell_type": "code",
   "execution_count": 22,
   "metadata": {},
   "outputs": [
    {
     "data": {
      "text/html": [
       "<div style=\"max-height:1000px;max-width:1500px;overflow:auto;\">\n",
       "<table border=\"1\" class=\"dataframe\">\n",
       "  <thead>\n",
       "    <tr style=\"text-align: right;\">\n",
       "      <th></th>\n",
       "      <th>mpg</th>\n",
       "      <th>cyl</th>\n",
       "      <th>disp</th>\n",
       "      <th>hp</th>\n",
       "      <th>drat</th>\n",
       "      <th>wt</th>\n",
       "      <th>qsec</th>\n",
       "      <th>vs</th>\n",
       "      <th>am</th>\n",
       "      <th>gear</th>\n",
       "      <th>carb</th>\n",
       "      <th>kmpg</th>\n",
       "    </tr>\n",
       "  </thead>\n",
       "  <tbody>\n",
       "    <tr>\n",
       "      <th>0</th>\n",
       "      <td> 21.0</td>\n",
       "      <td> 6</td>\n",
       "      <td> 160</td>\n",
       "      <td> 110</td>\n",
       "      <td> 3.90</td>\n",
       "      <td> 2.620</td>\n",
       "      <td> 16.46</td>\n",
       "      <td> 0</td>\n",
       "      <td> 1</td>\n",
       "      <td> 4</td>\n",
       "      <td> 4</td>\n",
       "      <td> 33.60</td>\n",
       "    </tr>\n",
       "    <tr>\n",
       "      <th>1</th>\n",
       "      <td> 21.0</td>\n",
       "      <td> 6</td>\n",
       "      <td> 160</td>\n",
       "      <td> 110</td>\n",
       "      <td> 3.90</td>\n",
       "      <td> 2.875</td>\n",
       "      <td> 17.02</td>\n",
       "      <td> 0</td>\n",
       "      <td> 1</td>\n",
       "      <td> 4</td>\n",
       "      <td> 4</td>\n",
       "      <td> 33.60</td>\n",
       "    </tr>\n",
       "    <tr>\n",
       "      <th>2</th>\n",
       "      <td> 22.8</td>\n",
       "      <td> 4</td>\n",
       "      <td> 108</td>\n",
       "      <td>  93</td>\n",
       "      <td> 3.85</td>\n",
       "      <td> 2.320</td>\n",
       "      <td> 18.61</td>\n",
       "      <td> 1</td>\n",
       "      <td> 1</td>\n",
       "      <td> 4</td>\n",
       "      <td> 1</td>\n",
       "      <td> 36.48</td>\n",
       "    </tr>\n",
       "    <tr>\n",
       "      <th>3</th>\n",
       "      <td> 21.4</td>\n",
       "      <td> 6</td>\n",
       "      <td> 258</td>\n",
       "      <td> 110</td>\n",
       "      <td> 3.08</td>\n",
       "      <td> 3.215</td>\n",
       "      <td> 19.44</td>\n",
       "      <td> 1</td>\n",
       "      <td> 0</td>\n",
       "      <td> 3</td>\n",
       "      <td> 1</td>\n",
       "      <td> 34.24</td>\n",
       "    </tr>\n",
       "  </tbody>\n",
       "</table>\n",
       "</div>"
      ],
      "text/plain": [
       "    mpg  cyl  disp   hp  drat     wt   qsec  vs  am  gear  carb   kmpg\n",
       "0  21.0    6   160  110  3.90  2.620  16.46   0   1     4     4  33.60\n",
       "1  21.0    6   160  110  3.90  2.875  17.02   0   1     4     4  33.60\n",
       "2  22.8    4   108   93  3.85  2.320  18.61   1   1     4     1  36.48\n",
       "3  21.4    6   258  110  3.08  3.215  19.44   1   0     3     1  34.24"
      ]
     },
     "execution_count": 22,
     "metadata": {},
     "output_type": "execute_result"
    }
   ],
   "source": [
    "cars['kmpg']=cars['mpg']*1.6\n",
    "cars[:4]"
   ]
  },
  {
   "cell_type": "code",
   "execution_count": 23,
   "metadata": {},
   "outputs": [
    {
     "data": {
      "text/html": [
       "<div style=\"max-height:1000px;max-width:1500px;overflow:auto;\">\n",
       "<table border=\"1\" class=\"dataframe\">\n",
       "  <thead>\n",
       "    <tr style=\"text-align: right;\">\n",
       "      <th></th>\n",
       "      <th>mpg</th>\n",
       "      <th>cyl</th>\n",
       "      <th>disp</th>\n",
       "      <th>hp</th>\n",
       "      <th>drat</th>\n",
       "      <th>wt</th>\n",
       "      <th>qsec</th>\n",
       "      <th>vs</th>\n",
       "      <th>am</th>\n",
       "      <th>gear</th>\n",
       "      <th>carb</th>\n",
       "    </tr>\n",
       "  </thead>\n",
       "  <tbody>\n",
       "    <tr>\n",
       "      <th>0</th>\n",
       "      <td> 21.0</td>\n",
       "      <td> 6</td>\n",
       "      <td> 160</td>\n",
       "      <td> 110</td>\n",
       "      <td> 3.90</td>\n",
       "      <td> 2.620</td>\n",
       "      <td> 16.46</td>\n",
       "      <td> 0</td>\n",
       "      <td> 1</td>\n",
       "      <td> 4</td>\n",
       "      <td> 4</td>\n",
       "    </tr>\n",
       "    <tr>\n",
       "      <th>1</th>\n",
       "      <td> 21.0</td>\n",
       "      <td> 6</td>\n",
       "      <td> 160</td>\n",
       "      <td> 110</td>\n",
       "      <td> 3.90</td>\n",
       "      <td> 2.875</td>\n",
       "      <td> 17.02</td>\n",
       "      <td> 0</td>\n",
       "      <td> 1</td>\n",
       "      <td> 4</td>\n",
       "      <td> 4</td>\n",
       "    </tr>\n",
       "    <tr>\n",
       "      <th>2</th>\n",
       "      <td> 22.8</td>\n",
       "      <td> 4</td>\n",
       "      <td> 108</td>\n",
       "      <td>  93</td>\n",
       "      <td> 3.85</td>\n",
       "      <td> 2.320</td>\n",
       "      <td> 18.61</td>\n",
       "      <td> 1</td>\n",
       "      <td> 1</td>\n",
       "      <td> 4</td>\n",
       "      <td> 1</td>\n",
       "    </tr>\n",
       "    <tr>\n",
       "      <th>3</th>\n",
       "      <td> 21.4</td>\n",
       "      <td> 6</td>\n",
       "      <td> 258</td>\n",
       "      <td> 110</td>\n",
       "      <td> 3.08</td>\n",
       "      <td> 3.215</td>\n",
       "      <td> 19.44</td>\n",
       "      <td> 1</td>\n",
       "      <td> 0</td>\n",
       "      <td> 3</td>\n",
       "      <td> 1</td>\n",
       "    </tr>\n",
       "  </tbody>\n",
       "</table>\n",
       "</div>"
      ],
      "text/plain": [
       "    mpg  cyl  disp   hp  drat     wt   qsec  vs  am  gear  carb\n",
       "0  21.0    6   160  110  3.90  2.620  16.46   0   1     4     4\n",
       "1  21.0    6   160  110  3.90  2.875  17.02   0   1     4     4\n",
       "2  22.8    4   108   93  3.85  2.320  18.61   1   1     4     1\n",
       "3  21.4    6   258  110  3.08  3.215  19.44   1   0     3     1"
      ]
     },
     "execution_count": 23,
     "metadata": {},
     "output_type": "execute_result"
    }
   ],
   "source": [
    "del cars['kmpg']\n",
    "cars[:4]"
   ]
  },
  {
   "cell_type": "code",
   "execution_count": 24,
   "metadata": {},
   "outputs": [
    {
     "data": {
      "text/plain": [
       "0    21.0\n",
       "1    21.0\n",
       "2    22.8\n",
       "3    21.4\n",
       "4    18.7\n",
       "5    18.1\n",
       "6    14.3\n",
       "7    24.4\n",
       "8    22.8\n",
       "9    19.2\n",
       "Name: mpg, dtype: float64"
      ]
     },
     "execution_count": 24,
     "metadata": {},
     "output_type": "execute_result"
    }
   ],
   "source": [
    "cars.mpg[:10]"
   ]
  },
  {
   "cell_type": "code",
   "execution_count": 25,
   "metadata": {},
   "outputs": [
    {
     "data": {
      "text/plain": [
       "0  mpg      21.000\n",
       "   cyl       6.000\n",
       "   disp    160.000\n",
       "   hp      110.000\n",
       "   drat      3.900\n",
       "   wt        2.620\n",
       "   qsec     16.460\n",
       "   vs        0.000\n",
       "   am        1.000\n",
       "   gear      4.000\n",
       "   carb      4.000\n",
       "1  mpg      21.000\n",
       "   cyl       6.000\n",
       "   disp    160.000\n",
       "   hp      110.000\n",
       "   drat      3.900\n",
       "   wt        2.875\n",
       "   qsec     17.020\n",
       "   vs        0.000\n",
       "   am        1.000\n",
       "dtype: float64"
      ]
     },
     "execution_count": 25,
     "metadata": {},
     "output_type": "execute_result"
    }
   ],
   "source": [
    "cars3=cars.stack()\n",
    "cars3[:20]"
   ]
  },
  {
   "cell_type": "code",
   "execution_count": 26,
   "metadata": {},
   "outputs": [
    {
     "data": {
      "text/html": [
       "<div style=\"max-height:1000px;max-width:1500px;overflow:auto;\">\n",
       "<table border=\"1\" class=\"dataframe\">\n",
       "  <thead>\n",
       "    <tr style=\"text-align: right;\">\n",
       "      <th></th>\n",
       "      <th>mpg</th>\n",
       "      <th>cyl</th>\n",
       "      <th>disp</th>\n",
       "      <th>hp</th>\n",
       "      <th>drat</th>\n",
       "      <th>wt</th>\n",
       "      <th>qsec</th>\n",
       "      <th>vs</th>\n",
       "      <th>am</th>\n",
       "      <th>gear</th>\n",
       "      <th>carb</th>\n",
       "    </tr>\n",
       "  </thead>\n",
       "  <tbody>\n",
       "    <tr>\n",
       "      <th>0</th>\n",
       "      <td> 21.0</td>\n",
       "      <td> 6</td>\n",
       "      <td> 160</td>\n",
       "      <td> 110</td>\n",
       "      <td> 3.90</td>\n",
       "      <td> 2.620</td>\n",
       "      <td> 16.46</td>\n",
       "      <td> 0</td>\n",
       "      <td> 1</td>\n",
       "      <td> 4</td>\n",
       "      <td> 4</td>\n",
       "    </tr>\n",
       "    <tr>\n",
       "      <th>1</th>\n",
       "      <td> 21.0</td>\n",
       "      <td> 6</td>\n",
       "      <td> 160</td>\n",
       "      <td> 110</td>\n",
       "      <td> 3.90</td>\n",
       "      <td> 2.875</td>\n",
       "      <td> 17.02</td>\n",
       "      <td> 0</td>\n",
       "      <td> 1</td>\n",
       "      <td> 4</td>\n",
       "      <td> 4</td>\n",
       "    </tr>\n",
       "    <tr>\n",
       "      <th>2</th>\n",
       "      <td> 22.8</td>\n",
       "      <td> 4</td>\n",
       "      <td> 108</td>\n",
       "      <td>  93</td>\n",
       "      <td> 3.85</td>\n",
       "      <td> 2.320</td>\n",
       "      <td> 18.61</td>\n",
       "      <td> 1</td>\n",
       "      <td> 1</td>\n",
       "      <td> 4</td>\n",
       "      <td> 1</td>\n",
       "    </tr>\n",
       "    <tr>\n",
       "      <th>3</th>\n",
       "      <td> 21.4</td>\n",
       "      <td> 6</td>\n",
       "      <td> 258</td>\n",
       "      <td> 110</td>\n",
       "      <td> 3.08</td>\n",
       "      <td> 3.215</td>\n",
       "      <td> 19.44</td>\n",
       "      <td> 1</td>\n",
       "      <td> 0</td>\n",
       "      <td> 3</td>\n",
       "      <td> 1</td>\n",
       "    </tr>\n",
       "    <tr>\n",
       "      <th>4</th>\n",
       "      <td> 18.7</td>\n",
       "      <td> 8</td>\n",
       "      <td> 360</td>\n",
       "      <td> 175</td>\n",
       "      <td> 3.15</td>\n",
       "      <td> 3.440</td>\n",
       "      <td> 17.02</td>\n",
       "      <td> 0</td>\n",
       "      <td> 0</td>\n",
       "      <td> 3</td>\n",
       "      <td> 2</td>\n",
       "    </tr>\n",
       "  </tbody>\n",
       "</table>\n",
       "</div>"
      ],
      "text/plain": [
       "    mpg  cyl  disp   hp  drat     wt   qsec  vs  am  gear  carb\n",
       "0  21.0    6   160  110  3.90  2.620  16.46   0   1     4     4\n",
       "1  21.0    6   160  110  3.90  2.875  17.02   0   1     4     4\n",
       "2  22.8    4   108   93  3.85  2.320  18.61   1   1     4     1\n",
       "3  21.4    6   258  110  3.08  3.215  19.44   1   0     3     1\n",
       "4  18.7    8   360  175  3.15  3.440  17.02   0   0     3     2"
      ]
     },
     "execution_count": 26,
     "metadata": {},
     "output_type": "execute_result"
    }
   ],
   "source": [
    "cars3.unstack()[:5]"
   ]
  },
  {
   "cell_type": "code",
   "execution_count": 27,
   "metadata": {},
   "outputs": [
    {
     "data": {
      "text/plain": [
       "cyl  gear  carb\n",
       "4    3     1       21.50\n",
       "     4     1       29.10\n",
       "           2       24.75\n",
       "     5     2       28.20\n",
       "6    3     1       19.75\n",
       "     4     4       19.75\n",
       "     5     6       19.70\n",
       "8    3     2       17.15\n",
       "           3       16.30\n",
       "           4       12.62\n",
       "     5     4       15.80\n",
       "           8       15.00\n",
       "Name: mpg, dtype: float64"
      ]
     },
     "execution_count": 27,
     "metadata": {},
     "output_type": "execute_result"
    }
   ],
   "source": [
    "grouped=cars.groupby(['cyl','gear','carb'])\n",
    "grouped['mpg'].mean()"
   ]
  },
  {
   "cell_type": "code",
   "execution_count": 28,
   "metadata": {},
   "outputs": [
    {
     "data": {
      "text/html": [
       "<div style=\"max-height:1000px;max-width:1500px;overflow:auto;\">\n",
       "<table border=\"1\" class=\"dataframe\">\n",
       "  <thead>\n",
       "    <tr>\n",
       "      <th></th>\n",
       "      <th></th>\n",
       "      <th></th>\n",
       "      <th colspan=\"3\" halign=\"left\">mpg</th>\n",
       "      <th colspan=\"3\" halign=\"left\">disp</th>\n",
       "    </tr>\n",
       "    <tr>\n",
       "      <th></th>\n",
       "      <th></th>\n",
       "      <th></th>\n",
       "      <th>count</th>\n",
       "      <th>mean</th>\n",
       "      <th>median</th>\n",
       "      <th>count</th>\n",
       "      <th>mean</th>\n",
       "      <th>median</th>\n",
       "    </tr>\n",
       "    <tr>\n",
       "      <th>cyl</th>\n",
       "      <th>gear</th>\n",
       "      <th>carb</th>\n",
       "      <th></th>\n",
       "      <th></th>\n",
       "      <th></th>\n",
       "      <th></th>\n",
       "      <th></th>\n",
       "      <th></th>\n",
       "    </tr>\n",
       "  </thead>\n",
       "  <tbody>\n",
       "    <tr>\n",
       "      <th rowspan=\"4\" valign=\"top\">4</th>\n",
       "      <th>3</th>\n",
       "      <th>1</th>\n",
       "      <td> 1</td>\n",
       "      <td> 21.50</td>\n",
       "      <td> 21.50</td>\n",
       "      <td> 1</td>\n",
       "      <td> 120.10</td>\n",
       "      <td> 120.10</td>\n",
       "    </tr>\n",
       "    <tr>\n",
       "      <th rowspan=\"2\" valign=\"top\">4</th>\n",
       "      <th>1</th>\n",
       "      <td> 4</td>\n",
       "      <td> 29.10</td>\n",
       "      <td> 29.85</td>\n",
       "      <td> 4</td>\n",
       "      <td>  84.20</td>\n",
       "      <td>  78.85</td>\n",
       "    </tr>\n",
       "    <tr>\n",
       "      <th>2</th>\n",
       "      <td> 4</td>\n",
       "      <td> 24.75</td>\n",
       "      <td> 23.60</td>\n",
       "      <td> 4</td>\n",
       "      <td> 121.05</td>\n",
       "      <td> 130.90</td>\n",
       "    </tr>\n",
       "    <tr>\n",
       "      <th>5</th>\n",
       "      <th>2</th>\n",
       "      <td> 2</td>\n",
       "      <td> 28.20</td>\n",
       "      <td> 28.20</td>\n",
       "      <td> 2</td>\n",
       "      <td> 107.70</td>\n",
       "      <td> 107.70</td>\n",
       "    </tr>\n",
       "    <tr>\n",
       "      <th rowspan=\"3\" valign=\"top\">6</th>\n",
       "      <th>3</th>\n",
       "      <th>1</th>\n",
       "      <td> 2</td>\n",
       "      <td> 19.75</td>\n",
       "      <td> 19.75</td>\n",
       "      <td> 2</td>\n",
       "      <td> 241.50</td>\n",
       "      <td> 241.50</td>\n",
       "    </tr>\n",
       "    <tr>\n",
       "      <th>4</th>\n",
       "      <th>4</th>\n",
       "      <td> 4</td>\n",
       "      <td> 19.75</td>\n",
       "      <td> 20.10</td>\n",
       "      <td> 4</td>\n",
       "      <td> 163.80</td>\n",
       "      <td> 163.80</td>\n",
       "    </tr>\n",
       "    <tr>\n",
       "      <th>5</th>\n",
       "      <th>6</th>\n",
       "      <td> 1</td>\n",
       "      <td> 19.70</td>\n",
       "      <td> 19.70</td>\n",
       "      <td> 1</td>\n",
       "      <td> 145.00</td>\n",
       "      <td> 145.00</td>\n",
       "    </tr>\n",
       "    <tr>\n",
       "      <th rowspan=\"5\" valign=\"top\">8</th>\n",
       "      <th rowspan=\"3\" valign=\"top\">3</th>\n",
       "      <th>2</th>\n",
       "      <td> 4</td>\n",
       "      <td> 17.15</td>\n",
       "      <td> 17.10</td>\n",
       "      <td> 4</td>\n",
       "      <td> 345.50</td>\n",
       "      <td> 339.00</td>\n",
       "    </tr>\n",
       "    <tr>\n",
       "      <th>3</th>\n",
       "      <td> 3</td>\n",
       "      <td> 16.30</td>\n",
       "      <td> 16.40</td>\n",
       "      <td> 3</td>\n",
       "      <td> 275.80</td>\n",
       "      <td> 275.80</td>\n",
       "    </tr>\n",
       "    <tr>\n",
       "      <th>4</th>\n",
       "      <td> 5</td>\n",
       "      <td> 12.62</td>\n",
       "      <td> 13.30</td>\n",
       "      <td> 5</td>\n",
       "      <td> 416.40</td>\n",
       "      <td> 440.00</td>\n",
       "    </tr>\n",
       "    <tr>\n",
       "      <th rowspan=\"2\" valign=\"top\">5</th>\n",
       "      <th>4</th>\n",
       "      <td> 1</td>\n",
       "      <td> 15.80</td>\n",
       "      <td> 15.80</td>\n",
       "      <td> 1</td>\n",
       "      <td> 351.00</td>\n",
       "      <td> 351.00</td>\n",
       "    </tr>\n",
       "    <tr>\n",
       "      <th>8</th>\n",
       "      <td> 1</td>\n",
       "      <td> 15.00</td>\n",
       "      <td> 15.00</td>\n",
       "      <td> 1</td>\n",
       "      <td> 301.00</td>\n",
       "      <td> 301.00</td>\n",
       "    </tr>\n",
       "  </tbody>\n",
       "</table>\n",
       "</div>"
      ],
      "text/plain": [
       "                 mpg                  disp                \n",
       "               count   mean  median  count    mean  median\n",
       "cyl gear carb                                             \n",
       "4   3    1         1  21.50   21.50      1  120.10  120.10\n",
       "    4    1         4  29.10   29.85      4   84.20   78.85\n",
       "         2         4  24.75   23.60      4  121.05  130.90\n",
       "    5    2         2  28.20   28.20      2  107.70  107.70\n",
       "6   3    1         2  19.75   19.75      2  241.50  241.50\n",
       "    4    4         4  19.75   20.10      4  163.80  163.80\n",
       "    5    6         1  19.70   19.70      1  145.00  145.00\n",
       "8   3    2         4  17.15   17.10      4  345.50  339.00\n",
       "         3         3  16.30   16.40      3  275.80  275.80\n",
       "         4         5  12.62   13.30      5  416.40  440.00\n",
       "    5    4         1  15.80   15.80      1  351.00  351.00\n",
       "         8         1  15.00   15.00      1  301.00  301.00"
      ]
     },
     "execution_count": 28,
     "metadata": {},
     "output_type": "execute_result"
    }
   ],
   "source": [
    "stats = ['count','mean','median']\n",
    "grouped.agg(stats)[['mpg','disp']]"
   ]
  },
  {
   "cell_type": "code",
   "execution_count": 29,
   "metadata": {},
   "outputs": [
    {
     "data": {
      "text/html": [
       "<div style=\"max-height:1000px;max-width:1500px;overflow:auto;\">\n",
       "<table border=\"1\" class=\"dataframe\">\n",
       "  <thead>\n",
       "    <tr style=\"text-align: right;\">\n",
       "      <th></th>\n",
       "      <th></th>\n",
       "      <th></th>\n",
       "      <th>mpg</th>\n",
       "      <th>disp</th>\n",
       "      <th>hp</th>\n",
       "      <th>drat</th>\n",
       "      <th>wt</th>\n",
       "      <th>qsec</th>\n",
       "      <th>vs</th>\n",
       "      <th>am</th>\n",
       "    </tr>\n",
       "    <tr>\n",
       "      <th>cyl</th>\n",
       "      <th>gear</th>\n",
       "      <th>carb</th>\n",
       "      <th></th>\n",
       "      <th></th>\n",
       "      <th></th>\n",
       "      <th></th>\n",
       "      <th></th>\n",
       "      <th></th>\n",
       "      <th></th>\n",
       "      <th></th>\n",
       "    </tr>\n",
       "  </thead>\n",
       "  <tbody>\n",
       "    <tr>\n",
       "      <th rowspan=\"4\" valign=\"top\">4</th>\n",
       "      <th>3</th>\n",
       "      <th>1</th>\n",
       "      <td> 21.5</td>\n",
       "      <td> 120.1</td>\n",
       "      <td>  97</td>\n",
       "      <td> 3.70</td>\n",
       "      <td> 2.465</td>\n",
       "      <td> 20.01</td>\n",
       "      <td> 1</td>\n",
       "      <td> 0</td>\n",
       "    </tr>\n",
       "    <tr>\n",
       "      <th rowspan=\"2\" valign=\"top\">4</th>\n",
       "      <th>1</th>\n",
       "      <td> 22.8</td>\n",
       "      <td> 108.0</td>\n",
       "      <td>  93</td>\n",
       "      <td> 3.85</td>\n",
       "      <td> 2.320</td>\n",
       "      <td> 18.61</td>\n",
       "      <td> 1</td>\n",
       "      <td> 1</td>\n",
       "    </tr>\n",
       "    <tr>\n",
       "      <th>2</th>\n",
       "      <td> 24.4</td>\n",
       "      <td> 146.7</td>\n",
       "      <td>  62</td>\n",
       "      <td> 3.69</td>\n",
       "      <td> 3.190</td>\n",
       "      <td> 20.00</td>\n",
       "      <td> 1</td>\n",
       "      <td> 0</td>\n",
       "    </tr>\n",
       "    <tr>\n",
       "      <th>5</th>\n",
       "      <th>2</th>\n",
       "      <td> 26.0</td>\n",
       "      <td> 120.3</td>\n",
       "      <td>  91</td>\n",
       "      <td> 4.43</td>\n",
       "      <td> 2.140</td>\n",
       "      <td> 16.70</td>\n",
       "      <td> 0</td>\n",
       "      <td> 1</td>\n",
       "    </tr>\n",
       "    <tr>\n",
       "      <th rowspan=\"3\" valign=\"top\">6</th>\n",
       "      <th>3</th>\n",
       "      <th>1</th>\n",
       "      <td> 21.4</td>\n",
       "      <td> 258.0</td>\n",
       "      <td> 110</td>\n",
       "      <td> 3.08</td>\n",
       "      <td> 3.215</td>\n",
       "      <td> 19.44</td>\n",
       "      <td> 1</td>\n",
       "      <td> 0</td>\n",
       "    </tr>\n",
       "    <tr>\n",
       "      <th>4</th>\n",
       "      <th>4</th>\n",
       "      <td> 21.0</td>\n",
       "      <td> 160.0</td>\n",
       "      <td> 110</td>\n",
       "      <td> 3.90</td>\n",
       "      <td> 2.620</td>\n",
       "      <td> 16.46</td>\n",
       "      <td> 0</td>\n",
       "      <td> 1</td>\n",
       "    </tr>\n",
       "    <tr>\n",
       "      <th>5</th>\n",
       "      <th>6</th>\n",
       "      <td> 19.7</td>\n",
       "      <td> 145.0</td>\n",
       "      <td> 175</td>\n",
       "      <td> 3.62</td>\n",
       "      <td> 2.770</td>\n",
       "      <td> 15.50</td>\n",
       "      <td> 0</td>\n",
       "      <td> 1</td>\n",
       "    </tr>\n",
       "    <tr>\n",
       "      <th rowspan=\"5\" valign=\"top\">8</th>\n",
       "      <th rowspan=\"3\" valign=\"top\">3</th>\n",
       "      <th>2</th>\n",
       "      <td> 18.7</td>\n",
       "      <td> 360.0</td>\n",
       "      <td> 175</td>\n",
       "      <td> 3.15</td>\n",
       "      <td> 3.440</td>\n",
       "      <td> 17.02</td>\n",
       "      <td> 0</td>\n",
       "      <td> 0</td>\n",
       "    </tr>\n",
       "    <tr>\n",
       "      <th>3</th>\n",
       "      <td> 16.4</td>\n",
       "      <td> 275.8</td>\n",
       "      <td> 180</td>\n",
       "      <td> 3.07</td>\n",
       "      <td> 4.070</td>\n",
       "      <td> 17.40</td>\n",
       "      <td> 0</td>\n",
       "      <td> 0</td>\n",
       "    </tr>\n",
       "    <tr>\n",
       "      <th>4</th>\n",
       "      <td> 14.3</td>\n",
       "      <td> 360.0</td>\n",
       "      <td> 245</td>\n",
       "      <td> 3.21</td>\n",
       "      <td> 3.570</td>\n",
       "      <td> 15.84</td>\n",
       "      <td> 0</td>\n",
       "      <td> 0</td>\n",
       "    </tr>\n",
       "    <tr>\n",
       "      <th rowspan=\"2\" valign=\"top\">5</th>\n",
       "      <th>4</th>\n",
       "      <td> 15.8</td>\n",
       "      <td> 351.0</td>\n",
       "      <td> 264</td>\n",
       "      <td> 4.22</td>\n",
       "      <td> 3.170</td>\n",
       "      <td> 14.50</td>\n",
       "      <td> 0</td>\n",
       "      <td> 1</td>\n",
       "    </tr>\n",
       "    <tr>\n",
       "      <th>8</th>\n",
       "      <td> 15.0</td>\n",
       "      <td> 301.0</td>\n",
       "      <td> 335</td>\n",
       "      <td> 3.54</td>\n",
       "      <td> 3.570</td>\n",
       "      <td> 14.60</td>\n",
       "      <td> 0</td>\n",
       "      <td> 1</td>\n",
       "    </tr>\n",
       "  </tbody>\n",
       "</table>\n",
       "</div>"
      ],
      "text/plain": [
       "                mpg   disp   hp  drat     wt   qsec  vs  am\n",
       "cyl gear carb                                              \n",
       "4   3    1     21.5  120.1   97  3.70  2.465  20.01   1   0\n",
       "    4    1     22.8  108.0   93  3.85  2.320  18.61   1   1\n",
       "         2     24.4  146.7   62  3.69  3.190  20.00   1   0\n",
       "    5    2     26.0  120.3   91  4.43  2.140  16.70   0   1\n",
       "6   3    1     21.4  258.0  110  3.08  3.215  19.44   1   0\n",
       "    4    4     21.0  160.0  110  3.90  2.620  16.46   0   1\n",
       "    5    6     19.7  145.0  175  3.62  2.770  15.50   0   1\n",
       "8   3    2     18.7  360.0  175  3.15  3.440  17.02   0   0\n",
       "         3     16.4  275.8  180  3.07  4.070  17.40   0   0\n",
       "         4     14.3  360.0  245  3.21  3.570  15.84   0   0\n",
       "    5    4     15.8  351.0  264  4.22  3.170  14.50   0   1\n",
       "         8     15.0  301.0  335  3.54  3.570  14.60   0   1"
      ]
     },
     "execution_count": 29,
     "metadata": {},
     "output_type": "execute_result"
    }
   ],
   "source": [
    "grouped.first()"
   ]
  },
  {
   "cell_type": "code",
   "execution_count": 30,
   "metadata": {},
   "outputs": [
    {
     "data": {
      "text/html": [
       "<div style=\"max-height:1000px;max-width:1500px;overflow:auto;\">\n",
       "<table border=\"1\" class=\"dataframe\">\n",
       "  <thead>\n",
       "    <tr style=\"text-align: right;\">\n",
       "      <th></th>\n",
       "      <th>mpg</th>\n",
       "      <th>cyl</th>\n",
       "      <th>disp</th>\n",
       "      <th>hp</th>\n",
       "      <th>drat</th>\n",
       "      <th>wt</th>\n",
       "      <th>qsec</th>\n",
       "      <th>vs</th>\n",
       "      <th>am</th>\n",
       "      <th>gear</th>\n",
       "      <th>carb</th>\n",
       "    </tr>\n",
       "  </thead>\n",
       "  <tbody>\n",
       "    <tr>\n",
       "      <th>2 </th>\n",
       "      <td> 22.8</td>\n",
       "      <td> 4</td>\n",
       "      <td> 108.0</td>\n",
       "      <td>  93</td>\n",
       "      <td> 3.85</td>\n",
       "      <td> 2.320</td>\n",
       "      <td> 18.61</td>\n",
       "      <td> 1</td>\n",
       "      <td> 1</td>\n",
       "      <td> 4</td>\n",
       "      <td> 1</td>\n",
       "    </tr>\n",
       "    <tr>\n",
       "      <th>7 </th>\n",
       "      <td> 24.4</td>\n",
       "      <td> 4</td>\n",
       "      <td> 146.7</td>\n",
       "      <td>  62</td>\n",
       "      <td> 3.69</td>\n",
       "      <td> 3.190</td>\n",
       "      <td> 20.00</td>\n",
       "      <td> 1</td>\n",
       "      <td> 0</td>\n",
       "      <td> 4</td>\n",
       "      <td> 2</td>\n",
       "    </tr>\n",
       "    <tr>\n",
       "      <th>8 </th>\n",
       "      <td> 22.8</td>\n",
       "      <td> 4</td>\n",
       "      <td> 140.8</td>\n",
       "      <td>  95</td>\n",
       "      <td> 3.92</td>\n",
       "      <td> 3.150</td>\n",
       "      <td> 22.90</td>\n",
       "      <td> 1</td>\n",
       "      <td> 0</td>\n",
       "      <td> 4</td>\n",
       "      <td> 2</td>\n",
       "    </tr>\n",
       "    <tr>\n",
       "      <th>17</th>\n",
       "      <td> 32.4</td>\n",
       "      <td> 4</td>\n",
       "      <td>  78.7</td>\n",
       "      <td>  66</td>\n",
       "      <td> 4.08</td>\n",
       "      <td> 2.200</td>\n",
       "      <td> 19.47</td>\n",
       "      <td> 1</td>\n",
       "      <td> 1</td>\n",
       "      <td> 4</td>\n",
       "      <td> 1</td>\n",
       "    </tr>\n",
       "    <tr>\n",
       "      <th>18</th>\n",
       "      <td> 30.4</td>\n",
       "      <td> 4</td>\n",
       "      <td>  75.7</td>\n",
       "      <td>  52</td>\n",
       "      <td> 4.93</td>\n",
       "      <td> 1.615</td>\n",
       "      <td> 18.52</td>\n",
       "      <td> 1</td>\n",
       "      <td> 1</td>\n",
       "      <td> 4</td>\n",
       "      <td> 2</td>\n",
       "    </tr>\n",
       "    <tr>\n",
       "      <th>19</th>\n",
       "      <td> 33.9</td>\n",
       "      <td> 4</td>\n",
       "      <td>  71.1</td>\n",
       "      <td>  65</td>\n",
       "      <td> 4.22</td>\n",
       "      <td> 1.835</td>\n",
       "      <td> 19.90</td>\n",
       "      <td> 1</td>\n",
       "      <td> 1</td>\n",
       "      <td> 4</td>\n",
       "      <td> 1</td>\n",
       "    </tr>\n",
       "    <tr>\n",
       "      <th>20</th>\n",
       "      <td> 21.5</td>\n",
       "      <td> 4</td>\n",
       "      <td> 120.1</td>\n",
       "      <td>  97</td>\n",
       "      <td> 3.70</td>\n",
       "      <td> 2.465</td>\n",
       "      <td> 20.01</td>\n",
       "      <td> 1</td>\n",
       "      <td> 0</td>\n",
       "      <td> 3</td>\n",
       "      <td> 1</td>\n",
       "    </tr>\n",
       "    <tr>\n",
       "      <th>25</th>\n",
       "      <td> 27.3</td>\n",
       "      <td> 4</td>\n",
       "      <td>  79.0</td>\n",
       "      <td>  66</td>\n",
       "      <td> 4.08</td>\n",
       "      <td> 1.935</td>\n",
       "      <td> 18.90</td>\n",
       "      <td> 1</td>\n",
       "      <td> 1</td>\n",
       "      <td> 4</td>\n",
       "      <td> 1</td>\n",
       "    </tr>\n",
       "    <tr>\n",
       "      <th>26</th>\n",
       "      <td> 26.0</td>\n",
       "      <td> 4</td>\n",
       "      <td> 120.3</td>\n",
       "      <td>  91</td>\n",
       "      <td> 4.43</td>\n",
       "      <td> 2.140</td>\n",
       "      <td> 16.70</td>\n",
       "      <td> 0</td>\n",
       "      <td> 1</td>\n",
       "      <td> 5</td>\n",
       "      <td> 2</td>\n",
       "    </tr>\n",
       "    <tr>\n",
       "      <th>27</th>\n",
       "      <td> 30.4</td>\n",
       "      <td> 4</td>\n",
       "      <td>  95.1</td>\n",
       "      <td> 113</td>\n",
       "      <td> 3.77</td>\n",
       "      <td> 1.513</td>\n",
       "      <td> 16.90</td>\n",
       "      <td> 1</td>\n",
       "      <td> 1</td>\n",
       "      <td> 5</td>\n",
       "      <td> 2</td>\n",
       "    </tr>\n",
       "    <tr>\n",
       "      <th>31</th>\n",
       "      <td> 21.4</td>\n",
       "      <td> 4</td>\n",
       "      <td> 121.0</td>\n",
       "      <td> 109</td>\n",
       "      <td> 4.11</td>\n",
       "      <td> 2.780</td>\n",
       "      <td> 18.60</td>\n",
       "      <td> 1</td>\n",
       "      <td> 1</td>\n",
       "      <td> 4</td>\n",
       "      <td> 2</td>\n",
       "    </tr>\n",
       "  </tbody>\n",
       "</table>\n",
       "</div>"
      ],
      "text/plain": [
       "     mpg  cyl   disp   hp  drat     wt   qsec  vs  am  gear  carb\n",
       "2   22.8    4  108.0   93  3.85  2.320  18.61   1   1     4     1\n",
       "7   24.4    4  146.7   62  3.69  3.190  20.00   1   0     4     2\n",
       "8   22.8    4  140.8   95  3.92  3.150  22.90   1   0     4     2\n",
       "17  32.4    4   78.7   66  4.08  2.200  19.47   1   1     4     1\n",
       "18  30.4    4   75.7   52  4.93  1.615  18.52   1   1     4     2\n",
       "19  33.9    4   71.1   65  4.22  1.835  19.90   1   1     4     1\n",
       "20  21.5    4  120.1   97  3.70  2.465  20.01   1   0     3     1\n",
       "25  27.3    4   79.0   66  4.08  1.935  18.90   1   1     4     1\n",
       "26  26.0    4  120.3   91  4.43  2.140  16.70   0   1     5     2\n",
       "27  30.4    4   95.1  113  3.77  1.513  16.90   1   1     5     2\n",
       "31  21.4    4  121.0  109  4.11  2.780  18.60   1   1     4     2"
      ]
     },
     "execution_count": 30,
     "metadata": {},
     "output_type": "execute_result"
    }
   ],
   "source": [
    "cars[cars.cyl==4]"
   ]
  },
  {
   "cell_type": "code",
   "execution_count": 31,
   "metadata": {},
   "outputs": [
    {
     "data": {
      "text/html": [
       "<div style=\"max-height:1000px;max-width:1500px;overflow:auto;\">\n",
       "<table border=\"1\" class=\"dataframe\">\n",
       "  <thead>\n",
       "    <tr style=\"text-align: right;\">\n",
       "      <th></th>\n",
       "      <th>total_bill</th>\n",
       "      <th>tip</th>\n",
       "      <th>sex</th>\n",
       "      <th>smoker</th>\n",
       "      <th>day</th>\n",
       "      <th>time</th>\n",
       "      <th>size</th>\n",
       "    </tr>\n",
       "  </thead>\n",
       "  <tbody>\n",
       "    <tr>\n",
       "      <th>0</th>\n",
       "      <td> 16.99</td>\n",
       "      <td> 1.01</td>\n",
       "      <td> Female</td>\n",
       "      <td> No</td>\n",
       "      <td> Sun</td>\n",
       "      <td> Dinner</td>\n",
       "      <td> 2</td>\n",
       "    </tr>\n",
       "    <tr>\n",
       "      <th>1</th>\n",
       "      <td> 10.34</td>\n",
       "      <td> 1.66</td>\n",
       "      <td>   Male</td>\n",
       "      <td> No</td>\n",
       "      <td> Sun</td>\n",
       "      <td> Dinner</td>\n",
       "      <td> 3</td>\n",
       "    </tr>\n",
       "    <tr>\n",
       "      <th>2</th>\n",
       "      <td> 21.01</td>\n",
       "      <td> 3.50</td>\n",
       "      <td>   Male</td>\n",
       "      <td> No</td>\n",
       "      <td> Sun</td>\n",
       "      <td> Dinner</td>\n",
       "      <td> 3</td>\n",
       "    </tr>\n",
       "    <tr>\n",
       "      <th>3</th>\n",
       "      <td> 23.68</td>\n",
       "      <td> 3.31</td>\n",
       "      <td>   Male</td>\n",
       "      <td> No</td>\n",
       "      <td> Sun</td>\n",
       "      <td> Dinner</td>\n",
       "      <td> 2</td>\n",
       "    </tr>\n",
       "    <tr>\n",
       "      <th>4</th>\n",
       "      <td> 24.59</td>\n",
       "      <td> 3.61</td>\n",
       "      <td> Female</td>\n",
       "      <td> No</td>\n",
       "      <td> Sun</td>\n",
       "      <td> Dinner</td>\n",
       "      <td> 4</td>\n",
       "    </tr>\n",
       "  </tbody>\n",
       "</table>\n",
       "</div>"
      ],
      "text/plain": [
       "   total_bill   tip     sex smoker  day    time  size\n",
       "0       16.99  1.01  Female     No  Sun  Dinner     2\n",
       "1       10.34  1.66    Male     No  Sun  Dinner     3\n",
       "2       21.01  3.50    Male     No  Sun  Dinner     3\n",
       "3       23.68  3.31    Male     No  Sun  Dinner     2\n",
       "4       24.59  3.61  Female     No  Sun  Dinner     4"
      ]
     },
     "execution_count": 31,
     "metadata": {},
     "output_type": "execute_result"
    }
   ],
   "source": [
    "tips = pd.read_csv('tips.csv')\n",
    "tips[:5]"
   ]
  },
  {
   "cell_type": "code",
   "execution_count": 32,
   "metadata": {},
   "outputs": [],
   "source": [
    "tips['tip_pct'] = tips['tip']/tips['total_bill']*100"
   ]
  },
  {
   "cell_type": "code",
   "execution_count": 33,
   "metadata": {},
   "outputs": [
    {
     "data": {
      "text/plain": [
       "sex     smoker\n",
       "Female  No        15.692097\n",
       "        Yes       18.215035\n",
       "Male    No        16.066872\n",
       "        Yes       15.277118\n",
       "Name: tip_pct, dtype: float64"
      ]
     },
     "execution_count": 33,
     "metadata": {},
     "output_type": "execute_result"
    }
   ],
   "source": [
    "groupedtips = tips.groupby(['sex','smoker'])\n",
    "groupedtips['tip_pct'].agg('mean')"
   ]
  },
  {
   "cell_type": "code",
   "execution_count": 34,
   "metadata": {},
   "outputs": [],
   "source": [
    "result=tips.groupby('smoker')['tip_pct'].describe()"
   ]
  },
  {
   "cell_type": "code",
   "execution_count": 35,
   "metadata": {},
   "outputs": [
    {
     "data": {
      "text/html": [
       "<div style=\"max-height:1000px;max-width:1500px;overflow:auto;\">\n",
       "<table border=\"1\" class=\"dataframe\">\n",
       "  <thead>\n",
       "    <tr style=\"text-align: right;\">\n",
       "      <th>smoker</th>\n",
       "      <th>No</th>\n",
       "      <th>Yes</th>\n",
       "    </tr>\n",
       "  </thead>\n",
       "  <tbody>\n",
       "    <tr>\n",
       "      <th>count</th>\n",
       "      <td> 151.000000</td>\n",
       "      <td> 93.000000</td>\n",
       "    </tr>\n",
       "    <tr>\n",
       "      <th>mean</th>\n",
       "      <td>  15.932846</td>\n",
       "      <td> 16.319604</td>\n",
       "    </tr>\n",
       "    <tr>\n",
       "      <th>std</th>\n",
       "      <td>   3.990977</td>\n",
       "      <td>  8.511920</td>\n",
       "    </tr>\n",
       "    <tr>\n",
       "      <th>min</th>\n",
       "      <td>   5.679667</td>\n",
       "      <td>  3.563814</td>\n",
       "    </tr>\n",
       "    <tr>\n",
       "      <th>25%</th>\n",
       "      <td>  13.690561</td>\n",
       "      <td> 10.677083</td>\n",
       "    </tr>\n",
       "    <tr>\n",
       "      <th>50%</th>\n",
       "      <td>  15.562472</td>\n",
       "      <td> 15.384615</td>\n",
       "    </tr>\n",
       "    <tr>\n",
       "      <th>75%</th>\n",
       "      <td>  18.501403</td>\n",
       "      <td> 19.505852</td>\n",
       "    </tr>\n",
       "    <tr>\n",
       "      <th>max</th>\n",
       "      <td>  29.198966</td>\n",
       "      <td> 71.034483</td>\n",
       "    </tr>\n",
       "  </tbody>\n",
       "</table>\n",
       "</div>"
      ],
      "text/plain": [
       "smoker          No        Yes\n",
       "count   151.000000  93.000000\n",
       "mean     15.932846  16.319604\n",
       "std       3.990977   8.511920\n",
       "min       5.679667   3.563814\n",
       "25%      13.690561  10.677083\n",
       "50%      15.562472  15.384615\n",
       "75%      18.501403  19.505852\n",
       "max      29.198966  71.034483"
      ]
     },
     "execution_count": 35,
     "metadata": {},
     "output_type": "execute_result"
    }
   ],
   "source": [
    "result.unstack('smoker')"
   ]
  },
  {
   "cell_type": "code",
   "execution_count": 36,
   "metadata": {},
   "outputs": [
    {
     "data": {
      "text/plain": [
       "Ohio          0.479346\n",
       "New York     -0.037588\n",
       "Vermont            NaN\n",
       "Oregon        0.943553\n",
       "Washington         NaN\n",
       "Nevada       -1.184667\n",
       "dtype: float64"
      ]
     },
     "execution_count": 36,
     "metadata": {},
     "output_type": "execute_result"
    }
   ],
   "source": [
    "states = ['Ohio','New York','Vermont','Oregon','Washington','Nevada']\n",
    "group_key=['East']*3 + ['West']*3\n",
    "data = pd.Series(np.random.randn(6), index=states)\n",
    "data[['Vermont','Washington']]=np.nan\n",
    "data"
   ]
  },
  {
   "cell_type": "code",
   "execution_count": 37,
   "metadata": {},
   "outputs": [
    {
     "data": {
      "text/plain": [
       "East    0.220879\n",
       "West   -0.120557\n",
       "dtype: float64"
      ]
     },
     "execution_count": 37,
     "metadata": {},
     "output_type": "execute_result"
    }
   ],
   "source": [
    "data.groupby(group_key).mean()"
   ]
  },
  {
   "cell_type": "code",
   "execution_count": 38,
   "metadata": {},
   "outputs": [
    {
     "data": {
      "text/plain": [
       "Ohio          0.479346\n",
       "New York     -0.037588\n",
       "Vermont       0.220879\n",
       "Oregon        0.943553\n",
       "Washington   -0.120557\n",
       "Nevada       -1.184667\n",
       "dtype: float64"
      ]
     },
     "execution_count": 38,
     "metadata": {},
     "output_type": "execute_result"
    }
   ],
   "source": [
    "fill_mean=lambda g: g.fillna(g.mean())\n",
    "\n",
    "data.groupby(group_key).apply(fill_mean)"
   ]
  },
  {
   "cell_type": "code",
   "execution_count": 39,
   "metadata": {},
   "outputs": [
    {
     "data": {
      "text/html": [
       "<div style=\"max-height:1000px;max-width:1500px;overflow:auto;\">\n",
       "<table border=\"1\" class=\"dataframe\">\n",
       "  <thead>\n",
       "    <tr style=\"text-align: right;\">\n",
       "      <th></th>\n",
       "      <th></th>\n",
       "      <th>size</th>\n",
       "      <th>tip</th>\n",
       "      <th>tip_pct</th>\n",
       "      <th>total_bill</th>\n",
       "    </tr>\n",
       "    <tr>\n",
       "      <th>sex</th>\n",
       "      <th>smoker</th>\n",
       "      <th></th>\n",
       "      <th></th>\n",
       "      <th></th>\n",
       "      <th></th>\n",
       "    </tr>\n",
       "  </thead>\n",
       "  <tbody>\n",
       "    <tr>\n",
       "      <th rowspan=\"2\" valign=\"top\">Female</th>\n",
       "      <th>No</th>\n",
       "      <td> 2.592593</td>\n",
       "      <td> 2.773519</td>\n",
       "      <td> 15.692097</td>\n",
       "      <td> 18.105185</td>\n",
       "    </tr>\n",
       "    <tr>\n",
       "      <th>Yes</th>\n",
       "      <td> 2.242424</td>\n",
       "      <td> 2.931515</td>\n",
       "      <td> 18.215035</td>\n",
       "      <td> 17.977879</td>\n",
       "    </tr>\n",
       "    <tr>\n",
       "      <th rowspan=\"2\" valign=\"top\">Male</th>\n",
       "      <th>No</th>\n",
       "      <td> 2.711340</td>\n",
       "      <td> 3.113402</td>\n",
       "      <td> 16.066872</td>\n",
       "      <td> 19.791237</td>\n",
       "    </tr>\n",
       "    <tr>\n",
       "      <th>Yes</th>\n",
       "      <td> 2.500000</td>\n",
       "      <td> 3.051167</td>\n",
       "      <td> 15.277118</td>\n",
       "      <td> 22.284500</td>\n",
       "    </tr>\n",
       "  </tbody>\n",
       "</table>\n",
       "</div>"
      ],
      "text/plain": [
       "                   size       tip    tip_pct  total_bill\n",
       "sex    smoker                                           \n",
       "Female No      2.592593  2.773519  15.692097   18.105185\n",
       "       Yes     2.242424  2.931515  18.215035   17.977879\n",
       "Male   No      2.711340  3.113402  16.066872   19.791237\n",
       "       Yes     2.500000  3.051167  15.277118   22.284500"
      ]
     },
     "execution_count": 39,
     "metadata": {},
     "output_type": "execute_result"
    }
   ],
   "source": [
    "tips.pivot_table(rows=['sex','smoker'])"
   ]
  },
  {
   "cell_type": "code",
   "execution_count": 40,
   "metadata": {},
   "outputs": [
    {
     "data": {
      "text/html": [
       "<div style=\"max-height:1000px;max-width:1500px;overflow:auto;\">\n",
       "<table border=\"1\" class=\"dataframe\">\n",
       "  <thead>\n",
       "    <tr>\n",
       "      <th></th>\n",
       "      <th></th>\n",
       "      <th colspan=\"2\" halign=\"left\">tip_pct</th>\n",
       "      <th colspan=\"2\" halign=\"left\">size</th>\n",
       "    </tr>\n",
       "    <tr>\n",
       "      <th></th>\n",
       "      <th>smoker</th>\n",
       "      <th>No</th>\n",
       "      <th>Yes</th>\n",
       "      <th>No</th>\n",
       "      <th>Yes</th>\n",
       "    </tr>\n",
       "    <tr>\n",
       "      <th>sex</th>\n",
       "      <th>day</th>\n",
       "      <th></th>\n",
       "      <th></th>\n",
       "      <th></th>\n",
       "      <th></th>\n",
       "    </tr>\n",
       "  </thead>\n",
       "  <tbody>\n",
       "    <tr>\n",
       "      <th rowspan=\"4\" valign=\"top\">Female</th>\n",
       "      <th>Fri</th>\n",
       "      <td> 16.529591</td>\n",
       "      <td> 20.912912</td>\n",
       "      <td> 2.500000</td>\n",
       "      <td> 2.000000</td>\n",
       "    </tr>\n",
       "    <tr>\n",
       "      <th>Sat</th>\n",
       "      <td> 14.799347</td>\n",
       "      <td> 16.381673</td>\n",
       "      <td> 2.307692</td>\n",
       "      <td> 2.200000</td>\n",
       "    </tr>\n",
       "    <tr>\n",
       "      <th>Sun</th>\n",
       "      <td> 16.570992</td>\n",
       "      <td> 23.707473</td>\n",
       "      <td> 3.071429</td>\n",
       "      <td> 2.500000</td>\n",
       "    </tr>\n",
       "    <tr>\n",
       "      <th>Thur</th>\n",
       "      <td> 15.597147</td>\n",
       "      <td> 16.307257</td>\n",
       "      <td> 2.480000</td>\n",
       "      <td> 2.428571</td>\n",
       "    </tr>\n",
       "    <tr>\n",
       "      <th rowspan=\"4\" valign=\"top\">Male</th>\n",
       "      <th>Fri</th>\n",
       "      <td> 13.800498</td>\n",
       "      <td> 14.473025</td>\n",
       "      <td> 2.000000</td>\n",
       "      <td> 2.125000</td>\n",
       "    </tr>\n",
       "    <tr>\n",
       "      <th>Sat</th>\n",
       "      <td> 16.213217</td>\n",
       "      <td> 13.906681</td>\n",
       "      <td> 2.656250</td>\n",
       "      <td> 2.629630</td>\n",
       "    </tr>\n",
       "    <tr>\n",
       "      <th>Sun</th>\n",
       "      <td> 15.829067</td>\n",
       "      <td> 17.396381</td>\n",
       "      <td> 2.883721</td>\n",
       "      <td> 2.600000</td>\n",
       "    </tr>\n",
       "    <tr>\n",
       "      <th>Thur</th>\n",
       "      <td> 16.570635</td>\n",
       "      <td> 16.441676</td>\n",
       "      <td> 2.500000</td>\n",
       "      <td> 2.300000</td>\n",
       "    </tr>\n",
       "  </tbody>\n",
       "</table>\n",
       "</div>"
      ],
      "text/plain": [
       "               tip_pct                 size          \n",
       "smoker              No        Yes        No       Yes\n",
       "sex    day                                           \n",
       "Female Fri   16.529591  20.912912  2.500000  2.000000\n",
       "       Sat   14.799347  16.381673  2.307692  2.200000\n",
       "       Sun   16.570992  23.707473  3.071429  2.500000\n",
       "       Thur  15.597147  16.307257  2.480000  2.428571\n",
       "Male   Fri   13.800498  14.473025  2.000000  2.125000\n",
       "       Sat   16.213217  13.906681  2.656250  2.629630\n",
       "       Sun   15.829067  17.396381  2.883721  2.600000\n",
       "       Thur  16.570635  16.441676  2.500000  2.300000"
      ]
     },
     "execution_count": 40,
     "metadata": {},
     "output_type": "execute_result"
    }
   ],
   "source": [
    "tips.pivot_table(['tip_pct','size'],rows=['sex','day'], cols='smoker')"
   ]
  },
  {
   "cell_type": "markdown",
   "metadata": {},
   "source": [
    "## Statistical modeling"
   ]
  },
  {
   "cell_type": "markdown",
   "metadata": {},
   "source": [
    "### statsmodels\n",
    "\n",
    "Methods provided include\n",
    "\n",
    "+ Linear regression\n",
    "+ Generalized linear models\n",
    "+ ANOVA\n",
    "+ Nonparametric methods\n",
    "+ Few others"
   ]
  },
  {
   "cell_type": "code",
   "execution_count": 41,
   "metadata": {},
   "outputs": [
    {
     "data": {
      "text/html": [
       "<div style=\"max-height:1000px;max-width:1500px;overflow:auto;\">\n",
       "<table border=\"1\" class=\"dataframe\">\n",
       "  <thead>\n",
       "    <tr style=\"text-align: right;\">\n",
       "      <th></th>\n",
       "      <th>mpg</th>\n",
       "      <th>cyl</th>\n",
       "      <th>disp</th>\n",
       "      <th>hp</th>\n",
       "      <th>drat</th>\n",
       "      <th>wt</th>\n",
       "      <th>qsec</th>\n",
       "      <th>vs</th>\n",
       "      <th>am</th>\n",
       "      <th>gear</th>\n",
       "      <th>carb</th>\n",
       "    </tr>\n",
       "  </thead>\n",
       "  <tbody>\n",
       "    <tr>\n",
       "      <th>0</th>\n",
       "      <td> 21.0</td>\n",
       "      <td> 6</td>\n",
       "      <td> 160</td>\n",
       "      <td> 110</td>\n",
       "      <td> 3.90</td>\n",
       "      <td> 2.620</td>\n",
       "      <td> 16.46</td>\n",
       "      <td> 0</td>\n",
       "      <td> 1</td>\n",
       "      <td> 4</td>\n",
       "      <td> 4</td>\n",
       "    </tr>\n",
       "    <tr>\n",
       "      <th>1</th>\n",
       "      <td> 21.0</td>\n",
       "      <td> 6</td>\n",
       "      <td> 160</td>\n",
       "      <td> 110</td>\n",
       "      <td> 3.90</td>\n",
       "      <td> 2.875</td>\n",
       "      <td> 17.02</td>\n",
       "      <td> 0</td>\n",
       "      <td> 1</td>\n",
       "      <td> 4</td>\n",
       "      <td> 4</td>\n",
       "    </tr>\n",
       "    <tr>\n",
       "      <th>2</th>\n",
       "      <td> 22.8</td>\n",
       "      <td> 4</td>\n",
       "      <td> 108</td>\n",
       "      <td>  93</td>\n",
       "      <td> 3.85</td>\n",
       "      <td> 2.320</td>\n",
       "      <td> 18.61</td>\n",
       "      <td> 1</td>\n",
       "      <td> 1</td>\n",
       "      <td> 4</td>\n",
       "      <td> 1</td>\n",
       "    </tr>\n",
       "    <tr>\n",
       "      <th>3</th>\n",
       "      <td> 21.4</td>\n",
       "      <td> 6</td>\n",
       "      <td> 258</td>\n",
       "      <td> 110</td>\n",
       "      <td> 3.08</td>\n",
       "      <td> 3.215</td>\n",
       "      <td> 19.44</td>\n",
       "      <td> 1</td>\n",
       "      <td> 0</td>\n",
       "      <td> 3</td>\n",
       "      <td> 1</td>\n",
       "    </tr>\n",
       "    <tr>\n",
       "      <th>4</th>\n",
       "      <td> 18.7</td>\n",
       "      <td> 8</td>\n",
       "      <td> 360</td>\n",
       "      <td> 175</td>\n",
       "      <td> 3.15</td>\n",
       "      <td> 3.440</td>\n",
       "      <td> 17.02</td>\n",
       "      <td> 0</td>\n",
       "      <td> 0</td>\n",
       "      <td> 3</td>\n",
       "      <td> 2</td>\n",
       "    </tr>\n",
       "  </tbody>\n",
       "</table>\n",
       "</div>"
      ],
      "text/plain": [
       "    mpg  cyl  disp   hp  drat     wt   qsec  vs  am  gear  carb\n",
       "0  21.0    6   160  110  3.90  2.620  16.46   0   1     4     4\n",
       "1  21.0    6   160  110  3.90  2.875  17.02   0   1     4     4\n",
       "2  22.8    4   108   93  3.85  2.320  18.61   1   1     4     1\n",
       "3  21.4    6   258  110  3.08  3.215  19.44   1   0     3     1\n",
       "4  18.7    8   360  175  3.15  3.440  17.02   0   0     3     2"
      ]
     },
     "execution_count": 41,
     "metadata": {},
     "output_type": "execute_result"
    }
   ],
   "source": [
    "import statsmodels as sm\n",
    "import statsmodels.formula.api as smf\n",
    "cars[:5]"
   ]
  },
  {
   "cell_type": "code",
   "execution_count": 42,
   "metadata": {},
   "outputs": [
    {
     "data": {
      "text/html": [
       "<table class=\"simpletable\">\n",
       "<caption>OLS Regression Results</caption>\n",
       "<tr>\n",
       "  <th>Dep. Variable:</th>           <td>mpg</td>       <th>  R-squared:         </th> <td>   0.984</td>\n",
       "</tr>\n",
       "<tr>\n",
       "  <th>Model:</th>                   <td>OLS</td>       <th>  Adj. R-squared:    </th> <td>   0.981</td>\n",
       "</tr>\n",
       "<tr>\n",
       "  <th>Method:</th>             <td>Least Squares</td>  <th>  F-statistic:       </th> <td>   331.4</td>\n",
       "</tr>\n",
       "<tr>\n",
       "  <th>Date:</th>             <td>Wed, 06 Nov 2013</td> <th>  Prob (F-statistic):</th> <td>2.44e-23</td>\n",
       "</tr>\n",
       "<tr>\n",
       "  <th>Time:</th>                 <td>00:57:11</td>     <th>  Log-Likelihood:    </th> <td> -76.620</td>\n",
       "</tr>\n",
       "<tr>\n",
       "  <th>No. Observations:</th>      <td>    32</td>      <th>  AIC:               </th> <td>   163.2</td>\n",
       "</tr>\n",
       "<tr>\n",
       "  <th>Df Residuals:</th>          <td>    27</td>      <th>  BIC:               </th> <td>   170.6</td>\n",
       "</tr>\n",
       "<tr>\n",
       "  <th>Df Model:</th>              <td>     5</td>      <th>                     </th>     <td> </td>   \n",
       "</tr>\n",
       "</table>\n",
       "<table class=\"simpletable\">\n",
       "<tr>\n",
       "      <td></td>         <th>coef</th>     <th>std err</th>      <th>t</th>      <th>P>|t|</th> <th>[95.0% Conf. Int.]</th> \n",
       "</tr>\n",
       "<tr>\n",
       "  <th>C(cyl)[4]</th> <td>   31.1477</td> <td>    1.767</td> <td>   17.626</td> <td> 0.000</td> <td>   27.522    34.774</td>\n",
       "</tr>\n",
       "<tr>\n",
       "  <th>C(cyl)[6]</th> <td>   27.1005</td> <td>    2.703</td> <td>   10.025</td> <td> 0.000</td> <td>   21.554    32.647</td>\n",
       "</tr>\n",
       "<tr>\n",
       "  <th>C(cyl)[8]</th> <td>   28.7158</td> <td>    4.600</td> <td>    6.243</td> <td> 0.000</td> <td>   19.278    38.154</td>\n",
       "</tr>\n",
       "<tr>\n",
       "  <th>disp</th>      <td>   -0.0260</td> <td>    0.010</td> <td>   -2.499</td> <td> 0.019</td> <td>   -0.047    -0.005</td>\n",
       "</tr>\n",
       "<tr>\n",
       "  <th>hp</th>        <td>   -0.0211</td> <td>    0.014</td> <td>   -1.490</td> <td> 0.148</td> <td>   -0.050     0.008</td>\n",
       "</tr>\n",
       "</table>\n",
       "<table class=\"simpletable\">\n",
       "<tr>\n",
       "  <th>Omnibus:</th>       <td> 1.696</td> <th>  Durbin-Watson:     </th> <td>   1.653</td>\n",
       "</tr>\n",
       "<tr>\n",
       "  <th>Prob(Omnibus):</th> <td> 0.428</td> <th>  Jarque-Bera (JB):  </th> <td>   1.579</td>\n",
       "</tr>\n",
       "<tr>\n",
       "  <th>Skew:</th>          <td> 0.469</td> <th>  Prob(JB):          </th> <td>   0.454</td>\n",
       "</tr>\n",
       "<tr>\n",
       "  <th>Kurtosis:</th>      <td> 2.449</td> <th>  Cond. No.          </th> <td>3.25e+03</td>\n",
       "</tr>\n",
       "</table>"
      ],
      "text/plain": [
       "<class 'statsmodels.iolib.summary.Summary'>\n",
       "\"\"\"\n",
       "                            OLS Regression Results                            \n",
       "==============================================================================\n",
       "Dep. Variable:                    mpg   R-squared:                       0.984\n",
       "Model:                            OLS   Adj. R-squared:                  0.981\n",
       "Method:                 Least Squares   F-statistic:                     331.4\n",
       "Date:                Wed, 06 Nov 2013   Prob (F-statistic):           2.44e-23\n",
       "Time:                        00:57:11   Log-Likelihood:                -76.620\n",
       "No. Observations:                  32   AIC:                             163.2\n",
       "Df Residuals:                      27   BIC:                             170.6\n",
       "Df Model:                           5                                         \n",
       "==============================================================================\n",
       "                 coef    std err          t      P>|t|      [95.0% Conf. Int.]\n",
       "------------------------------------------------------------------------------\n",
       "C(cyl)[4]     31.1477      1.767     17.626      0.000        27.522    34.774\n",
       "C(cyl)[6]     27.1005      2.703     10.025      0.000        21.554    32.647\n",
       "C(cyl)[8]     28.7158      4.600      6.243      0.000        19.278    38.154\n",
       "disp          -0.0260      0.010     -2.499      0.019        -0.047    -0.005\n",
       "hp            -0.0211      0.014     -1.490      0.148        -0.050     0.008\n",
       "==============================================================================\n",
       "Omnibus:                        1.696   Durbin-Watson:                   1.653\n",
       "Prob(Omnibus):                  0.428   Jarque-Bera (JB):                1.579\n",
       "Skew:                           0.469   Prob(JB):                        0.454\n",
       "Kurtosis:                       2.449   Cond. No.                     3.25e+03\n",
       "==============================================================================\n",
       "\n",
       "Warnings:\n",
       "[1] The condition number is large, 3.25e+03. This might indicate that there are\n",
       "strong multicollinearity or other numerical problems.\n",
       "\"\"\""
      ]
     },
     "execution_count": 42,
     "metadata": {},
     "output_type": "execute_result"
    }
   ],
   "source": [
    "mod1 = smf.ols('mpg~disp+hp+C(cyl)-1', data=cars) # change to category\n",
    "mod1.fit().summary()"
   ]
  },
  {
   "cell_type": "markdown",
   "metadata": {},
   "source": [
    "## Machine learning\n",
    "\n",
    "### Scikits-learn\n",
    "\n",
    "Methods include:\n",
    "\n",
    "+ Cluster analysis\n",
    "+ Dimension reduction\n",
    "+ Generalized linear models\n",
    "+ Support Vector Machines\n",
    "+ Nearest neighbors\n",
    "+ Decision Trees\n",
    "+ Ensemble methods\n",
    "+ Discriminant analysis\n",
    "+ Cross-validation\n",
    "+ Transformations"
   ]
  },
  {
   "cell_type": "code",
   "execution_count": 43,
   "metadata": {},
   "outputs": [],
   "source": [
    "import sklearn as learn\n",
    "from sklearn.ensemble import RandomForestRegressor\n",
    "X = cars.values[:,1:]\n",
    "y = cars.values[:,0]\n",
    "\n",
    "rf = RandomForestRegressor(n_estimators=100)\n",
    "rf = rf.fit(X, y)\n",
    "ypred=rf.predict(X)"
   ]
  },
  {
   "cell_type": "code",
   "execution_count": 44,
   "metadata": {},
   "outputs": [
    {
     "data": {
      "text/plain": [
       "[<matplotlib.lines.Line2D at 0x108769950>]"
      ]
     },
     "execution_count": 44,
     "metadata": {},
     "output_type": "execute_result"
    },
    {
     "data": {
      "image/png": "[encoded data removed]",
      "text/plain": [
       "<matplotlib.figure.Figure at 0x10829bc50>"
      ]
     },
     "metadata": {},
     "output_type": "display_data"
    }
   ],
   "source": [
    "import matplotlib as mpl\n",
    "import matplotlib.pyplot as plt\n",
    "plt.plot(y,ypred,'.')"
   ]
  },
  {
   "cell_type": "code",
   "execution_count": 45,
   "metadata": {},
   "outputs": [],
   "source": [
    "import seaborn as sns\n",
    "sns.set(palette=\"Purples_r\")\n",
    "mpl.rc(\"figure\", figsize=(5, 5))\n",
    "\n",
    "d = pd.DataFrame({'y':y,'ypred':ypred})"
   ]
  },
  {
   "cell_type": "code",
   "execution_count": 46,
   "metadata": {},
   "outputs": [
    {
     "data": {
      "image/png": "[encoded data removed]",
      "text/plain": [
       "<matplotlib.figure.Figure at 0x108776810>"
      ]
     },
     "metadata": {},
     "output_type": "display_data"
    }
   ],
   "source": [
    "sns.lmplot('y','ypred',d)"
   ]
  },
  {
   "cell_type": "code",
   "execution_count": 47,
   "metadata": {},
   "outputs": [
    {
     "data": {
      "image/png": "[encoded data removed]",
      "text/plain": [
       "<matplotlib.figure.Figure at 0x108e81590>"
      ]
     },
     "metadata": {},
     "output_type": "display_data"
    }
   ],
   "source": [
    "sns.lmplot(\"total_bill\",\"tip\",tips, col=\"sex\",color=\"time\")"
   ]
  },
  {
   "cell_type": "code",
   "execution_count": 48,
   "metadata": {},
   "outputs": [
    {
     "data": {
      "text/html": [
       "<style>\n",
       "    div.cell{\n",
       "        margin-left:auto;\n",
       "        margin-right:auto;\n",
       "    }\n",
       "    h1 {\n",
       "        font-family: Helvetica, serif;\n",
       "        font-size: 150%;\n",
       "    }\n",
       "    h2 {\n",
       "        font-size: 150%;\n",
       "    }\n",
       "    h4{\n",
       "        margin-top:12px;\n",
       "        margin-bottom: 3px;\n",
       "       }\n",
       "    div.text_cell_render{\n",
       "        font-family: \"Helvetica Neue\", Arial, Helvetica, Geneva, sans-serif;\n",
       "        line-height: 145%;\n",
       "        font-size: 150%;\n",
       "        margin-left:auto;\n",
       "        margin-right:auto;\n",
       "    }\n",
       "    ul, li {\n",
       "        padding: 10px;\n",
       "    }\n",
       "    .CodeMirror{\n",
       "            font-family: \"Source Code Pro\", source-code-pro,Consolas, monospace;\n",
       "            font-size: 150%;\n",
       "    }\n",
       "    div.output{\n",
       "        font-size:150%;\n",
       "    }\n",
       "    .prompt{\n",
       "        display: None;\n",
       "    }\n",
       "    .text_cell_render h5 {\n",
       "        font-weight: 300;\n",
       "        font-size: 22pt;\n",
       "        color: #4057A1;\n",
       "        font-style: italic;\n",
       "        margin-bottom: .5em;\n",
       "        margin-top: 0.5em;\n",
       "        display: block;\n",
       "    }\n",
       "    \n",
       "    .warning{\n",
       "        color: rgb( 240, 20, 20 )\n",
       "        }  \n",
       "</style>\n",
       "\n"
      ],
      "text/plain": [
       "<IPython.core.display.HTML at 0x1098cc2d0>"
      ]
     },
     "execution_count": 48,
     "metadata": {},
     "output_type": "execute_result"
    }
   ],
   "source": [
    "from IPython.core.display import HTML\n",
    "def css_styling():\n",
    "    styles = open(\"styles/custom.css\", \"r\").read()\n",
    "    return HTML(styles)\n",
    "css_styling()"
   ]
  },
  {
   "cell_type": "code",
   "execution_count": 48,
   "metadata": {},
   "outputs": [],
   "source": []
  }
 ],
 "metadata": {
  "celltoolbar": "Slideshow",
  "kernelspec": {
   "display_name": "Python 3",
   "language": "python",
   "name": "python3"
  },
  "language_info": {
   "codemirror_mode": {
    "name": "ipython",
    "version": 3
   },
   "file_extension": ".py",
   "mimetype": "text/x-python",
   "name": "python",
   "nbconvert_exporter": "python",
   "pygments_lexer": "ipython3",
   "version": "3.8.2"
  }
 },
 "nbformat": 4,
 "nbformat_minor": 1
}
